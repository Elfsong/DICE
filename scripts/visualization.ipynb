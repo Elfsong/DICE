{
 "cells": [
  {
   "cell_type": "code",
   "execution_count": null,
   "metadata": {},
   "outputs": [],
   "source": [
    "import os\n",
    "import sys\n",
    "sys.path.append(\"..\")\n",
    "os.environ['CUDA_VISIBLE_DEVICES'] = \"5\""
   ]
  },
  {
   "cell_type": "code",
   "execution_count": null,
   "metadata": {},
   "outputs": [],
   "source": [
    "import torch\n",
    "import pandas as pd\n",
    "import matplotlib.pyplot as plt\n",
    "from sklearn.manifold import TSNE\n",
    "from models.vae import VAE, Encoder"
   ]
  },
  {
   "cell_type": "code",
   "execution_count": null,
   "metadata": {},
   "outputs": [],
   "source": [
    "# Instantialte tsne, specify cosine metric\n",
    "tsne = TSNE(random_state = 0, n_iter = 1000, metric = 'cosine')"
   ]
  },
  {
   "cell_type": "code",
   "execution_count": null,
   "metadata": {},
   "outputs": [],
   "source": [
    "vae_config = {\n",
    "    \"encoder\": {\n",
    "        \"model_name\": 'bert-base-uncased',\n",
    "        \"tokenizer_name\": 'bert-base-uncased',\n",
    "        \"hidden_size\": 768,\n",
    "        \"latent_size\": 128,\n",
    "    }\n",
    "}"
   ]
  },
  {
   "cell_type": "code",
   "execution_count": null,
   "metadata": {},
   "outputs": [],
   "source": [
    "encoder = Encoder(vae_config[\"encoder\"])"
   ]
  },
  {
   "cell_type": "code",
   "execution_count": null,
   "metadata": {},
   "outputs": [],
   "source": [
    "checkpoint = torch.load(os.path.join(\"../checkpoints\", f'encoder_latest.pt'))\n",
    "encoder.load_state_dict(checkpoint, strict=False)"
   ]
  },
  {
   "cell_type": "code",
   "execution_count": null,
   "metadata": {},
   "outputs": [],
   "source": [
    "def get_embedding(text):\n",
    "    tokenized_content = encoder.tokenizer(\"Hello world!\", return_tensors=\"pt\")\n",
    "    mean, logvar, outputs = encoder(\n",
    "        input_ids=tokenized_content[\"input_ids\"], \n",
    "        attention_mask=tokenized_content[\"attention_mask\"],\n",
    "    )\n",
    "    return mean.view(-1).detach().numpy()"
   ]
  },
  {
   "cell_type": "code",
   "execution_count": null,
   "metadata": {},
   "outputs": [],
   "source": [
    "gender_df = pd.read_csv(\"/home/mingzhe/Projects/DebiasODE/src/data/gender_dataset.csv\", index_col=0)"
   ]
  },
  {
   "cell_type": "code",
   "execution_count": null,
   "metadata": {},
   "outputs": [],
   "source": [
    "embeddings = list()\n",
    "labels = list()\n",
    "count = 0\n",
    "\n",
    "for index, row in gender_df.iterrows():\n",
    "    embeddings += [get_embedding(row.text)]\n",
    "    labels += [row.label]\n",
    "    count += 1\n",
    "    print(count)"
   ]
  },
  {
   "cell_type": "code",
   "execution_count": 10,
   "metadata": {},
   "outputs": [
    {
     "name": "stderr",
     "output_type": "stream",
     "text": [
      "/home/mingzhe/miniconda3/envs/debias/lib/python3.9/site-packages/sklearn/manifold/_t_sne.py:780: FutureWarning: The default initialization in TSNE will change from 'random' to 'pca' in 1.2.\n",
      "  warnings.warn(\n",
      "/home/mingzhe/miniconda3/envs/debias/lib/python3.9/site-packages/sklearn/manifold/_t_sne.py:790: FutureWarning: The default learning rate in TSNE will change from 200.0 to 'auto' in 1.2.\n",
      "  warnings.warn(\n",
      "/home/mingzhe/miniconda3/envs/debias/lib/python3.9/site-packages/sklearn/manifold/_t_sne.py:819: FutureWarning: 'square_distances' has been introduced in 0.24 to help phase out legacy squaring behavior. The 'legacy' setting will be removed in 1.1 (renaming of 0.26), and the default setting will be changed to True. In 1.3, 'square_distances' will be removed altogether, and distances will be squared by default. Set 'square_distances'=True to silence this warning.\n",
      "  warnings.warn(\n"
     ]
    }
   ],
   "source": [
    "# Fit and transform\n",
    "embeddings2d = tsne.fit_transform(embeddings)"
   ]
  },
  {
   "cell_type": "code",
   "execution_count": 11,
   "metadata": {},
   "outputs": [],
   "source": [
    "# Create DF\n",
    "embeddingsdf = pd.DataFrame()\n",
    "# Add game names\n",
    "embeddingsdf['label'] = labels\n",
    "# Add x coordinate\n",
    "embeddingsdf['x'] = embeddings2d[:,0]\n",
    "# Add y coordinate\n",
    "embeddingsdf['y'] = embeddings2d[:,1]"
   ]
  },
  {
   "cell_type": "code",
   "execution_count": 14,
   "metadata": {},
   "outputs": [
    {
     "data": {
      "text/html": [
       "<div>\n",
       "<style scoped>\n",
       "    .dataframe tbody tr th:only-of-type {\n",
       "        vertical-align: middle;\n",
       "    }\n",
       "\n",
       "    .dataframe tbody tr th {\n",
       "        vertical-align: top;\n",
       "    }\n",
       "\n",
       "    .dataframe thead th {\n",
       "        text-align: right;\n",
       "    }\n",
       "</style>\n",
       "<table border=\"1\" class=\"dataframe\">\n",
       "  <thead>\n",
       "    <tr style=\"text-align: right;\">\n",
       "      <th></th>\n",
       "      <th>label</th>\n",
       "      <th>x</th>\n",
       "      <th>y</th>\n",
       "    </tr>\n",
       "  </thead>\n",
       "  <tbody>\n",
       "    <tr>\n",
       "      <th>1</th>\n",
       "      <td>male</td>\n",
       "      <td>0.226863</td>\n",
       "      <td>-0.567042</td>\n",
       "    </tr>\n",
       "    <tr>\n",
       "      <th>4</th>\n",
       "      <td>male</td>\n",
       "      <td>0.226863</td>\n",
       "      <td>-0.567042</td>\n",
       "    </tr>\n",
       "    <tr>\n",
       "      <th>7</th>\n",
       "      <td>male</td>\n",
       "      <td>0.226863</td>\n",
       "      <td>-0.567042</td>\n",
       "    </tr>\n",
       "    <tr>\n",
       "      <th>10</th>\n",
       "      <td>male</td>\n",
       "      <td>0.226863</td>\n",
       "      <td>-0.567042</td>\n",
       "    </tr>\n",
       "    <tr>\n",
       "      <th>13</th>\n",
       "      <td>male</td>\n",
       "      <td>0.226863</td>\n",
       "      <td>-0.567042</td>\n",
       "    </tr>\n",
       "  </tbody>\n",
       "</table>\n",
       "</div>"
      ],
      "text/plain": [
       "   label         x         y\n",
       "1   male  0.226863 -0.567042\n",
       "4   male  0.226863 -0.567042\n",
       "7   male  0.226863 -0.567042\n",
       "10  male  0.226863 -0.567042\n",
       "13  male  0.226863 -0.567042"
      ]
     },
     "execution_count": 14,
     "metadata": {},
     "output_type": "execute_result"
    }
   ],
   "source": [
    "embeddings_f = embeddingsdf[embeddingsdf.label==\"female\"]\n",
    "embeddings_m = embeddingsdf[embeddingsdf.label==\"male\"]\n",
    "\n",
    "# Check\n",
    "# embeddings_f.head()\n",
    "# embeddings_m.head()"
   ]
  },
  {
   "cell_type": "code",
   "execution_count": null,
   "metadata": {},
   "outputs": [],
   "source": [
    "# Set figsize\n",
    "fig, ax = plt.subplots(figsize=(6,6))\n",
    "# Scatter points, set alpha low to make points translucent\n",
    "ax.scatter(embeddingsdf.x, embeddingsdf.y, alpha=.5, c=\"red\")\n",
    "ax.scatter(embeddingsdf.x, embeddingsdf.y, alpha=.5, c=\"blue\")\n",
    "plt.title('Scatter plot of games using t-SNE')\n",
    "plt.show()"
   ]
  },
  {
   "cell_type": "code",
   "execution_count": null,
   "metadata": {},
   "outputs": [],
   "source": []
  }
 ],
 "metadata": {
  "kernelspec": {
   "display_name": "debias",
   "language": "python",
   "name": "python3"
  },
  "language_info": {
   "codemirror_mode": {
    "name": "ipython",
    "version": 3
   },
   "file_extension": ".py",
   "mimetype": "text/x-python",
   "name": "python",
   "nbconvert_exporter": "python",
   "pygments_lexer": "ipython3",
   "version": "3.9.16"
  },
  "orig_nbformat": 4
 },
 "nbformat": 4,
 "nbformat_minor": 2
}
